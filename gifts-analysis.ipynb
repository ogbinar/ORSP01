{
 "cells": [
  {
   "cell_type": "markdown",
   "id": "bce4f62a",
   "metadata": {},
   "source": [
    "# North Pole Analytics DEMO"
   ]
  },
  {
   "cell_type": "markdown",
   "id": "bb457e28",
   "metadata": {},
   "source": [
    "##### You can use any tool for analytics, but Python is a good place to start as it is free and easy to learn\n",
    "Python is an interpreted, object-oriented, high-level programming language with dynamic semantics.\n",
    "\n",
    "Important points:\n",
    "- object oriented - tries to model code as \"objects\"\n",
    "- high-level - closer to english language\n",
    "- dynamic semantics - the language is not strict"
   ]
  },
  {
   "cell_type": "markdown",
   "id": "31e9a299",
   "metadata": {},
   "source": [
    "### Load relevant modules\n",
    "Python Libraries are a set of useful functions that eliminate the need for writing codes from scratch."
   ]
  },
  {
   "cell_type": "code",
   "execution_count": 1,
   "id": "c9b33305",
   "metadata": {},
   "outputs": [],
   "source": [
    "# quantitative functions and data structures\n",
    "import numpy as np\n",
    "import scipy as spy\n",
    "import pandas as pd\n",
    "\n",
    "# shapes, geolocation, and network functions and data structures\n",
    "from shapely.geometry import Point\n",
    "import shapely\n",
    "import geopandas as gpd\n",
    "import networkx as ntx\n",
    "from scipy.spatial.distance import cdist\n",
    "\n",
    "# machine learning\n",
    "from sklearn.cluster import KMeans\n",
    "\n",
    "# visualization \n",
    "import matplotlib.pyplot as plt\n",
    "import mplleaflet\n"
   ]
  },
  {
   "cell_type": "markdown",
   "id": "e27bc33d",
   "metadata": {},
   "source": [
    "### Data Preparation & Exploration"
   ]
  },
  {
   "cell_type": "markdown",
   "id": "fa28283b",
   "metadata": {},
   "source": [
    "##### What is Pandas?\n",
    "Pandas is a software library written for the Python programming language for data manipulation and analysis."
   ]
  },
  {
   "cell_type": "code",
   "execution_count": 2,
   "id": "11b3a7e4",
   "metadata": {},
   "outputs": [
    {
     "data": {
      "text/html": [
       "<div>\n",
       "<style scoped>\n",
       "    .dataframe tbody tr th:only-of-type {\n",
       "        vertical-align: middle;\n",
       "    }\n",
       "\n",
       "    .dataframe tbody tr th {\n",
       "        vertical-align: top;\n",
       "    }\n",
       "\n",
       "    .dataframe thead th {\n",
       "        text-align: right;\n",
       "    }\n",
       "</style>\n",
       "<table border=\"1\" class=\"dataframe\">\n",
       "  <thead>\n",
       "    <tr style=\"text-align: right;\">\n",
       "      <th></th>\n",
       "      <th>GiftId</th>\n",
       "      <th>Latitude</th>\n",
       "      <th>Longitude</th>\n",
       "      <th>Weight</th>\n",
       "    </tr>\n",
       "  </thead>\n",
       "  <tbody>\n",
       "    <tr>\n",
       "      <th>0</th>\n",
       "      <td>1</td>\n",
       "      <td>16.345769</td>\n",
       "      <td>6.303545</td>\n",
       "      <td>1.000000</td>\n",
       "    </tr>\n",
       "    <tr>\n",
       "      <th>1</th>\n",
       "      <td>2</td>\n",
       "      <td>12.494749</td>\n",
       "      <td>28.626396</td>\n",
       "      <td>15.524480</td>\n",
       "    </tr>\n",
       "    <tr>\n",
       "      <th>2</th>\n",
       "      <td>3</td>\n",
       "      <td>27.794615</td>\n",
       "      <td>60.032495</td>\n",
       "      <td>8.058499</td>\n",
       "    </tr>\n",
       "    <tr>\n",
       "      <th>3</th>\n",
       "      <td>4</td>\n",
       "      <td>44.426992</td>\n",
       "      <td>110.114216</td>\n",
       "      <td>1.000000</td>\n",
       "    </tr>\n",
       "    <tr>\n",
       "      <th>4</th>\n",
       "      <td>5</td>\n",
       "      <td>-69.854088</td>\n",
       "      <td>87.946878</td>\n",
       "      <td>25.088892</td>\n",
       "    </tr>\n",
       "  </tbody>\n",
       "</table>\n",
       "</div>"
      ],
      "text/plain": [
       "   GiftId   Latitude   Longitude     Weight\n",
       "0       1  16.345769    6.303545   1.000000\n",
       "1       2  12.494749   28.626396  15.524480\n",
       "2       3  27.794615   60.032495   8.058499\n",
       "3       4  44.426992  110.114216   1.000000\n",
       "4       5 -69.854088   87.946878  25.088892"
      ]
     },
     "execution_count": 2,
     "metadata": {},
     "output_type": "execute_result"
    }
   ],
   "source": [
    "gifts_df = pd.read_csv(\"data/gifts.csv\")\n",
    "gifts_df.head()"
   ]
  },
  {
   "cell_type": "markdown",
   "id": "48e0ce12",
   "metadata": {},
   "source": [
    "How many gifts are going to be sent out"
   ]
  },
  {
   "cell_type": "code",
   "execution_count": 3,
   "id": "0f9d6e5b",
   "metadata": {},
   "outputs": [
    {
     "data": {
      "text/plain": [
       "(100000, 4)"
      ]
     },
     "execution_count": 3,
     "metadata": {},
     "output_type": "execute_result"
    }
   ],
   "source": [
    "gifts_df.shape"
   ]
  },
  {
   "cell_type": "markdown",
   "id": "afb65742",
   "metadata": {},
   "source": [
    "Let's convert our pandas dataframe into a geopandas dataframe "
   ]
  },
  {
   "cell_type": "code",
   "execution_count": 4,
   "id": "1270cc49",
   "metadata": {},
   "outputs": [
    {
     "data": {
      "text/html": [
       "<div>\n",
       "<style scoped>\n",
       "    .dataframe tbody tr th:only-of-type {\n",
       "        vertical-align: middle;\n",
       "    }\n",
       "\n",
       "    .dataframe tbody tr th {\n",
       "        vertical-align: top;\n",
       "    }\n",
       "\n",
       "    .dataframe thead th {\n",
       "        text-align: right;\n",
       "    }\n",
       "</style>\n",
       "<table border=\"1\" class=\"dataframe\">\n",
       "  <thead>\n",
       "    <tr style=\"text-align: right;\">\n",
       "      <th></th>\n",
       "      <th>GiftId</th>\n",
       "      <th>Weight</th>\n",
       "      <th>geometry</th>\n",
       "    </tr>\n",
       "  </thead>\n",
       "  <tbody>\n",
       "    <tr>\n",
       "      <th>0</th>\n",
       "      <td>1</td>\n",
       "      <td>1.000000</td>\n",
       "      <td>POINT (6.30355 16.34577)</td>\n",
       "    </tr>\n",
       "    <tr>\n",
       "      <th>1</th>\n",
       "      <td>2</td>\n",
       "      <td>15.524480</td>\n",
       "      <td>POINT (28.62640 12.49475)</td>\n",
       "    </tr>\n",
       "    <tr>\n",
       "      <th>2</th>\n",
       "      <td>3</td>\n",
       "      <td>8.058499</td>\n",
       "      <td>POINT (60.03249 27.79462)</td>\n",
       "    </tr>\n",
       "    <tr>\n",
       "      <th>3</th>\n",
       "      <td>4</td>\n",
       "      <td>1.000000</td>\n",
       "      <td>POINT (110.11422 44.42699)</td>\n",
       "    </tr>\n",
       "    <tr>\n",
       "      <th>4</th>\n",
       "      <td>5</td>\n",
       "      <td>25.088892</td>\n",
       "      <td>POINT (87.94688 -69.85409)</td>\n",
       "    </tr>\n",
       "  </tbody>\n",
       "</table>\n",
       "</div>"
      ],
      "text/plain": [
       "   GiftId     Weight                    geometry\n",
       "0       1   1.000000    POINT (6.30355 16.34577)\n",
       "1       2  15.524480   POINT (28.62640 12.49475)\n",
       "2       3   8.058499   POINT (60.03249 27.79462)\n",
       "3       4   1.000000  POINT (110.11422 44.42699)\n",
       "4       5  25.088892  POINT (87.94688 -69.85409)"
      ]
     },
     "execution_count": 4,
     "metadata": {},
     "output_type": "execute_result"
    }
   ],
   "source": [
    "gdf = gpd.GeoDataFrame(\n",
    "    gifts_df.drop(['Latitude', 'Longitude'], axis=1),\n",
    "    crs={'init': 'epsg:4326'},\n",
    "    geometry=[Point(xy) for xy in zip(gifts_df.Longitude, gifts_df.Latitude)])\n",
    "\n",
    "gdf.head()"
   ]
  },
  {
   "cell_type": "markdown",
   "id": "35baeb0a",
   "metadata": {},
   "source": [
    "Let's plot this information and see what it looks like"
   ]
  },
  {
   "cell_type": "markdown",
   "id": "bbf4e6ee",
   "metadata": {},
   "source": [
    "##### Matplotlib is a plotting library for the Python programming language\n",
    "Pandas and Geopandas uses Matplotlib for plotting / visualizing data"
   ]
  },
  {
   "cell_type": "code",
   "execution_count": 5,
   "id": "cdbd27f6",
   "metadata": {},
   "outputs": [
    {
     "data": {
      "text/plain": [
       "<matplotlib.axes._subplots.AxesSubplot at 0x1ebdb038a30>"
      ]
     },
     "execution_count": 5,
     "metadata": {},
     "output_type": "execute_result"
    },
    {
     "data": {
      "image/png": "[encoded data removed]",
      "text/plain": [
       "<Figure size 1440x1080 with 1 Axes>"
      ]
     },
     "metadata": {
      "needs_background": "light"
     },
     "output_type": "display_data"
    }
   ],
   "source": [
    "gdf.plot( color='red',figsize=(20, 15))"
   ]
  },
  {
   "cell_type": "markdown",
   "id": "4b0657d6",
   "metadata": {},
   "source": [
    "##### Natural Earth Dataset\n",
    "- https://www.naturalearthdata.com/\n",
    "- Pop and gdp info are late 2010 estimates"
   ]
  },
  {
   "cell_type": "markdown",
   "id": "f4e6226b",
   "metadata": {},
   "source": [
    "Let's connect the points with real world information so it's more understandable for us"
   ]
  },
  {
   "cell_type": "code",
   "execution_count": 6,
   "id": "e272077b",
   "metadata": {
    "scrolled": true
   },
   "outputs": [
    {
     "data": {
      "text/html": [
       "<div>\n",
       "<style scoped>\n",
       "    .dataframe tbody tr th:only-of-type {\n",
       "        vertical-align: middle;\n",
       "    }\n",
       "\n",
       "    .dataframe tbody tr th {\n",
       "        vertical-align: top;\n",
       "    }\n",
       "\n",
       "    .dataframe thead th {\n",
       "        text-align: right;\n",
       "    }\n",
       "</style>\n",
       "<table border=\"1\" class=\"dataframe\">\n",
       "  <thead>\n",
       "    <tr style=\"text-align: right;\">\n",
       "      <th></th>\n",
       "      <th>pop_est</th>\n",
       "      <th>continent</th>\n",
       "      <th>name</th>\n",
       "      <th>iso_a3</th>\n",
       "      <th>gdp_md_est</th>\n",
       "      <th>geometry</th>\n",
       "    </tr>\n",
       "  </thead>\n",
       "  <tbody>\n",
       "    <tr>\n",
       "      <th>0</th>\n",
       "      <td>920938</td>\n",
       "      <td>Oceania</td>\n",
       "      <td>Fiji</td>\n",
       "      <td>FJI</td>\n",
       "      <td>8374.0</td>\n",
       "      <td>MULTIPOLYGON (((180.00000 -16.06713, 180.00000...</td>\n",
       "    </tr>\n",
       "    <tr>\n",
       "      <th>1</th>\n",
       "      <td>53950935</td>\n",
       "      <td>Africa</td>\n",
       "      <td>Tanzania</td>\n",
       "      <td>TZA</td>\n",
       "      <td>150600.0</td>\n",
       "      <td>POLYGON ((33.90371 -0.95000, 34.07262 -1.05982...</td>\n",
       "    </tr>\n",
       "    <tr>\n",
       "      <th>2</th>\n",
       "      <td>603253</td>\n",
       "      <td>Africa</td>\n",
       "      <td>W. Sahara</td>\n",
       "      <td>ESH</td>\n",
       "      <td>906.5</td>\n",
       "      <td>POLYGON ((-8.66559 27.65643, -8.66512 27.58948...</td>\n",
       "    </tr>\n",
       "    <tr>\n",
       "      <th>3</th>\n",
       "      <td>35623680</td>\n",
       "      <td>North America</td>\n",
       "      <td>Canada</td>\n",
       "      <td>CAN</td>\n",
       "      <td>1674000.0</td>\n",
       "      <td>MULTIPOLYGON (((-122.84000 49.00000, -122.9742...</td>\n",
       "    </tr>\n",
       "    <tr>\n",
       "      <th>4</th>\n",
       "      <td>326625791</td>\n",
       "      <td>North America</td>\n",
       "      <td>United States of America</td>\n",
       "      <td>USA</td>\n",
       "      <td>18560000.0</td>\n",
       "      <td>MULTIPOLYGON (((-122.84000 49.00000, -120.0000...</td>\n",
       "    </tr>\n",
       "  </tbody>\n",
       "</table>\n",
       "</div>"
      ],
      "text/plain": [
       "     pop_est      continent                      name iso_a3  gdp_md_est  \\\n",
       "0     920938        Oceania                      Fiji    FJI      8374.0   \n",
       "1   53950935         Africa                  Tanzania    TZA    150600.0   \n",
       "2     603253         Africa                 W. Sahara    ESH       906.5   \n",
       "3   35623680  North America                    Canada    CAN   1674000.0   \n",
       "4  326625791  North America  United States of America    USA  18560000.0   \n",
       "\n",
       "                                            geometry  \n",
       "0  MULTIPOLYGON (((180.00000 -16.06713, 180.00000...  \n",
       "1  POLYGON ((33.90371 -0.95000, 34.07262 -1.05982...  \n",
       "2  POLYGON ((-8.66559 27.65643, -8.66512 27.58948...  \n",
       "3  MULTIPOLYGON (((-122.84000 49.00000, -122.9742...  \n",
       "4  MULTIPOLYGON (((-122.84000 49.00000, -120.0000...  "
      ]
     },
     "execution_count": 6,
     "metadata": {},
     "output_type": "execute_result"
    }
   ],
   "source": [
    "world_df = gpd.read_file(gpd.datasets.get_path('naturalearth_lowres'))\n",
    "world_df.head()"
   ]
  },
  {
   "cell_type": "markdown",
   "id": "d9798c29",
   "metadata": {},
   "source": [
    "And now let's do a join on our dataset. Geopandas helps by 'joining' based on geo coordinates"
   ]
  },
  {
   "cell_type": "code",
   "execution_count": 7,
   "id": "262cc2ff",
   "metadata": {},
   "outputs": [
    {
     "data": {
      "text/html": [
       "<div>\n",
       "<style scoped>\n",
       "    .dataframe tbody tr th:only-of-type {\n",
       "        vertical-align: middle;\n",
       "    }\n",
       "\n",
       "    .dataframe tbody tr th {\n",
       "        vertical-align: top;\n",
       "    }\n",
       "\n",
       "    .dataframe thead th {\n",
       "        text-align: right;\n",
       "    }\n",
       "</style>\n",
       "<table border=\"1\" class=\"dataframe\">\n",
       "  <thead>\n",
       "    <tr style=\"text-align: right;\">\n",
       "      <th></th>\n",
       "      <th>GiftId</th>\n",
       "      <th>Weight</th>\n",
       "      <th>geometry</th>\n",
       "      <th>index_right</th>\n",
       "      <th>pop_est</th>\n",
       "      <th>continent</th>\n",
       "      <th>name</th>\n",
       "      <th>iso_a3</th>\n",
       "      <th>gdp_md_est</th>\n",
       "    </tr>\n",
       "  </thead>\n",
       "  <tbody>\n",
       "    <tr>\n",
       "      <th>0</th>\n",
       "      <td>1</td>\n",
       "      <td>1.000000</td>\n",
       "      <td>POINT (6.30355 16.34577)</td>\n",
       "      <td>55</td>\n",
       "      <td>19245344</td>\n",
       "      <td>Africa</td>\n",
       "      <td>Niger</td>\n",
       "      <td>NER</td>\n",
       "      <td>20150.0</td>\n",
       "    </tr>\n",
       "    <tr>\n",
       "      <th>178</th>\n",
       "      <td>179</td>\n",
       "      <td>40.333787</td>\n",
       "      <td>POINT (8.54290 21.52880)</td>\n",
       "      <td>55</td>\n",
       "      <td>19245344</td>\n",
       "      <td>Africa</td>\n",
       "      <td>Niger</td>\n",
       "      <td>NER</td>\n",
       "      <td>20150.0</td>\n",
       "    </tr>\n",
       "    <tr>\n",
       "      <th>425</th>\n",
       "      <td>426</td>\n",
       "      <td>8.182597</td>\n",
       "      <td>POINT (4.35877 18.44012)</td>\n",
       "      <td>55</td>\n",
       "      <td>19245344</td>\n",
       "      <td>Africa</td>\n",
       "      <td>Niger</td>\n",
       "      <td>NER</td>\n",
       "      <td>20150.0</td>\n",
       "    </tr>\n",
       "    <tr>\n",
       "      <th>451</th>\n",
       "      <td>452</td>\n",
       "      <td>37.434888</td>\n",
       "      <td>POINT (4.87445 17.57498)</td>\n",
       "      <td>55</td>\n",
       "      <td>19245344</td>\n",
       "      <td>Africa</td>\n",
       "      <td>Niger</td>\n",
       "      <td>NER</td>\n",
       "      <td>20150.0</td>\n",
       "    </tr>\n",
       "    <tr>\n",
       "      <th>758</th>\n",
       "      <td>759</td>\n",
       "      <td>1.000000</td>\n",
       "      <td>POINT (10.34569 19.37971)</td>\n",
       "      <td>55</td>\n",
       "      <td>19245344</td>\n",
       "      <td>Africa</td>\n",
       "      <td>Niger</td>\n",
       "      <td>NER</td>\n",
       "      <td>20150.0</td>\n",
       "    </tr>\n",
       "  </tbody>\n",
       "</table>\n",
       "</div>"
      ],
      "text/plain": [
       "     GiftId     Weight                   geometry  index_right   pop_est  \\\n",
       "0         1   1.000000   POINT (6.30355 16.34577)           55  19245344   \n",
       "178     179  40.333787   POINT (8.54290 21.52880)           55  19245344   \n",
       "425     426   8.182597   POINT (4.35877 18.44012)           55  19245344   \n",
       "451     452  37.434888   POINT (4.87445 17.57498)           55  19245344   \n",
       "758     759   1.000000  POINT (10.34569 19.37971)           55  19245344   \n",
       "\n",
       "    continent   name iso_a3  gdp_md_est  \n",
       "0      Africa  Niger    NER     20150.0  \n",
       "178    Africa  Niger    NER     20150.0  \n",
       "425    Africa  Niger    NER     20150.0  \n",
       "451    Africa  Niger    NER     20150.0  \n",
       "758    Africa  Niger    NER     20150.0  "
      ]
     },
     "execution_count": 7,
     "metadata": {},
     "output_type": "execute_result"
    }
   ],
   "source": [
    "world_gifts_df = gpd.tools.sjoin(gdf, world_df, how='inner')\n",
    "world_gifts_df.head()"
   ]
  },
  {
   "cell_type": "markdown",
   "id": "fb76e337",
   "metadata": {},
   "source": [
    "It looks like there were a few thousands that could not be connected to our countries / continents data."
   ]
  },
  {
   "cell_type": "code",
   "execution_count": 8,
   "id": "47893b4d",
   "metadata": {
    "scrolled": true
   },
   "outputs": [
    {
     "data": {
      "text/plain": [
       "(97517, 9)"
      ]
     },
     "execution_count": 8,
     "metadata": {},
     "output_type": "execute_result"
    }
   ],
   "source": [
    "world_gifts_df.shape"
   ]
  },
  {
   "cell_type": "markdown",
   "id": "ee2acbdb",
   "metadata": {},
   "source": [
    "How does the gift distribution look like per continent?"
   ]
  },
  {
   "cell_type": "code",
   "execution_count": 9,
   "id": "f7a92823",
   "metadata": {
    "scrolled": true
   },
   "outputs": [
    {
     "data": {
      "text/plain": [
       "<matplotlib.axes._subplots.AxesSubplot at 0x1ebdd3fd0a0>"
      ]
     },
     "execution_count": 9,
     "metadata": {},
     "output_type": "execute_result"
    },
    {
     "data": {
      "image/png": "[encoded data removed]",
      "text/plain": [
       "<Figure size 720x360 with 1 Axes>"
      ]
     },
     "metadata": {
      "needs_background": "light"
     },
     "output_type": "display_data"
    }
   ],
   "source": [
    "pd.pivot_table(world_gifts_df,values='GiftId',index=['continent'],aggfunc=pd.Series.nunique).plot(kind='bar',figsize=(10, 5))"
   ]
  },
  {
   "cell_type": "markdown",
   "id": "1ce300b2",
   "metadata": {},
   "source": [
    "Let's check how many gifts will be sent per country compared to estimated children. Does it make sense?"
   ]
  },
  {
   "cell_type": "markdown",
   "id": "b9e99cc6",
   "metadata": {},
   "source": [
    "##### The average amount of kids for 2020 based on 186 countries was 27.09 percent.\n",
    "Population ages 0-14, percent of total, 2020. The highest value was in Niger: 49.67 percent and the lowest value was in Singapore: 12.3 percent. The indicator is available from 1960 to 2020.\n",
    "\n",
    "https://www.theglobaleconomy.com/rankings/percent_children/#:~:text=The%20average%20for%202020%20based,available%20from%201960%20to%202020."
   ]
  },
  {
   "cell_type": "code",
   "execution_count": 10,
   "id": "c3963f0a",
   "metadata": {},
   "outputs": [],
   "source": [
    "world_gifts_df['pop_children_est'] = round(world_gifts_df['pop_est']  * .2709,0)\n",
    "world_gifts_df['pop_children_est'] = world_gifts_df['pop_children_est'].astype(int)"
   ]
  },
  {
   "cell_type": "code",
   "execution_count": 11,
   "id": "7820072f",
   "metadata": {
    "scrolled": true
   },
   "outputs": [
    {
     "data": {
      "text/html": [
       "<div>\n",
       "<style scoped>\n",
       "    .dataframe tbody tr th:only-of-type {\n",
       "        vertical-align: middle;\n",
       "    }\n",
       "\n",
       "    .dataframe tbody tr th {\n",
       "        vertical-align: top;\n",
       "    }\n",
       "\n",
       "    .dataframe thead th {\n",
       "        text-align: right;\n",
       "    }\n",
       "</style>\n",
       "<table border=\"1\" class=\"dataframe\">\n",
       "  <thead>\n",
       "    <tr style=\"text-align: right;\">\n",
       "      <th></th>\n",
       "      <th></th>\n",
       "      <th></th>\n",
       "      <th>GiftId</th>\n",
       "    </tr>\n",
       "    <tr>\n",
       "      <th>name</th>\n",
       "      <th>pop_est</th>\n",
       "      <th>pop_children_est</th>\n",
       "      <th></th>\n",
       "    </tr>\n",
       "  </thead>\n",
       "  <tbody>\n",
       "    <tr>\n",
       "      <th>Afghanistan</th>\n",
       "      <th>34124811</th>\n",
       "      <th>9244411</th>\n",
       "      <td>415</td>\n",
       "    </tr>\n",
       "    <tr>\n",
       "      <th>Albania</th>\n",
       "      <th>3047987</th>\n",
       "      <th>825700</th>\n",
       "      <td>10</td>\n",
       "    </tr>\n",
       "    <tr>\n",
       "      <th>Algeria</th>\n",
       "      <th>40969443</th>\n",
       "      <th>11098622</th>\n",
       "      <td>1614</td>\n",
       "    </tr>\n",
       "    <tr>\n",
       "      <th>Angola</th>\n",
       "      <th>29310273</th>\n",
       "      <th>7940153</th>\n",
       "      <td>859</td>\n",
       "    </tr>\n",
       "    <tr>\n",
       "      <th>Antarctica</th>\n",
       "      <th>4050</th>\n",
       "      <th>1097</th>\n",
       "      <td>10108</td>\n",
       "    </tr>\n",
       "    <tr>\n",
       "      <th>...</th>\n",
       "      <th>...</th>\n",
       "      <th>...</th>\n",
       "      <td>...</td>\n",
       "    </tr>\n",
       "    <tr>\n",
       "      <th>W. Sahara</th>\n",
       "      <th>603253</th>\n",
       "      <th>163421</th>\n",
       "      <td>75</td>\n",
       "    </tr>\n",
       "    <tr>\n",
       "      <th>Yemen</th>\n",
       "      <th>28036829</th>\n",
       "      <th>7595177</th>\n",
       "      <td>285</td>\n",
       "    </tr>\n",
       "    <tr>\n",
       "      <th>Zambia</th>\n",
       "      <th>15972000</th>\n",
       "      <th>4326815</th>\n",
       "      <td>493</td>\n",
       "    </tr>\n",
       "    <tr>\n",
       "      <th>Zimbabwe</th>\n",
       "      <th>13805084</th>\n",
       "      <th>3739797</th>\n",
       "      <td>239</td>\n",
       "    </tr>\n",
       "    <tr>\n",
       "      <th>eSwatini</th>\n",
       "      <th>1467152</th>\n",
       "      <th>397451</th>\n",
       "      <td>12</td>\n",
       "    </tr>\n",
       "  </tbody>\n",
       "</table>\n",
       "<p>177 rows × 1 columns</p>\n",
       "</div>"
      ],
      "text/plain": [
       "                                       GiftId\n",
       "name        pop_est  pop_children_est        \n",
       "Afghanistan 34124811 9244411              415\n",
       "Albania     3047987  825700                10\n",
       "Algeria     40969443 11098622            1614\n",
       "Angola      29310273 7940153              859\n",
       "Antarctica  4050     1097               10108\n",
       "...                                       ...\n",
       "W. Sahara   603253   163421                75\n",
       "Yemen       28036829 7595177              285\n",
       "Zambia      15972000 4326815              493\n",
       "Zimbabwe    13805084 3739797              239\n",
       "eSwatini    1467152  397451                12\n",
       "\n",
       "[177 rows x 1 columns]"
      ]
     },
     "execution_count": 11,
     "metadata": {},
     "output_type": "execute_result"
    }
   ],
   "source": [
    "pd.pivot_table(world_gifts_df,values='GiftId',index=['name','pop_est','pop_children_est'],aggfunc=pd.Series.nunique)"
   ]
  },
  {
   "cell_type": "code",
   "execution_count": 12,
   "id": "da392e75",
   "metadata": {},
   "outputs": [
    {
     "data": {
      "text/plain": [
       "14.102086626823926"
      ]
     },
     "execution_count": 12,
     "metadata": {},
     "output_type": "execute_result"
    }
   ],
   "source": [
    "world_gifts_df['Weight'].mean()"
   ]
  },
  {
   "cell_type": "code",
   "execution_count": 13,
   "id": "5f5f22ab",
   "metadata": {},
   "outputs": [
    {
     "data": {
      "text/plain": [
       "<matplotlib.axes._subplots.AxesSubplot at 0x1ebdd4e1550>"
      ]
     },
     "execution_count": 13,
     "metadata": {},
     "output_type": "execute_result"
    },
    {
     "data": {
      "image/png": "[encoded data removed]",
      "text/plain": [
       "<Figure size 720x360 with 1 Axes>"
      ]
     },
     "metadata": {
      "needs_background": "light"
     },
     "output_type": "display_data"
    }
   ],
   "source": [
    "world_gifts_df['Weight'].hist(figsize=(10,5))"
   ]
  },
  {
   "cell_type": "markdown",
   "id": "bd6ec38d",
   "metadata": {},
   "source": [
    "- Looks like most gifts don't weigh a lot but might have load implications for delivery.\n",
    "- What about quality? since we don't have a quality metric to compare to, we'll hold that question for now."
   ]
  },
  {
   "cell_type": "markdown",
   "id": "d8d2bb3b",
   "metadata": {},
   "source": [
    "###  Is there a way for us to estimate the best way to divide this coverage?\n",
    "A K-means clustering algorithm tries to group similar items in the form of clusters. The number of groups is represented by K.\n",
    "![](https://miro.medium.com/max/1200/1*rw8IUza1dbffBhiA4i0GNQ.png)"
   ]
  },
  {
   "cell_type": "markdown",
   "id": "9e820cc0",
   "metadata": {},
   "source": [
    "convert longitudes and latitudes into x,y matrix for clustering"
   ]
  },
  {
   "cell_type": "code",
   "execution_count": 14,
   "id": "3986027b",
   "metadata": {
    "scrolled": true
   },
   "outputs": [
    {
     "data": {
      "text/html": [
       "<div>\n",
       "<style scoped>\n",
       "    .dataframe tbody tr th:only-of-type {\n",
       "        vertical-align: middle;\n",
       "    }\n",
       "\n",
       "    .dataframe tbody tr th {\n",
       "        vertical-align: top;\n",
       "    }\n",
       "\n",
       "    .dataframe thead th {\n",
       "        text-align: right;\n",
       "    }\n",
       "</style>\n",
       "<table border=\"1\" class=\"dataframe\">\n",
       "  <thead>\n",
       "    <tr style=\"text-align: right;\">\n",
       "      <th></th>\n",
       "      <th>0</th>\n",
       "      <th>1</th>\n",
       "    </tr>\n",
       "  </thead>\n",
       "  <tbody>\n",
       "    <tr>\n",
       "      <th>0</th>\n",
       "      <td>6.303545</td>\n",
       "      <td>16.345769</td>\n",
       "    </tr>\n",
       "    <tr>\n",
       "      <th>1</th>\n",
       "      <td>8.542897</td>\n",
       "      <td>21.528801</td>\n",
       "    </tr>\n",
       "    <tr>\n",
       "      <th>2</th>\n",
       "      <td>4.358772</td>\n",
       "      <td>18.440124</td>\n",
       "    </tr>\n",
       "    <tr>\n",
       "      <th>3</th>\n",
       "      <td>4.874454</td>\n",
       "      <td>17.574979</td>\n",
       "    </tr>\n",
       "    <tr>\n",
       "      <th>4</th>\n",
       "      <td>10.345690</td>\n",
       "      <td>19.379708</td>\n",
       "    </tr>\n",
       "  </tbody>\n",
       "</table>\n",
       "</div>"
      ],
      "text/plain": [
       "           0          1\n",
       "0   6.303545  16.345769\n",
       "1   8.542897  21.528801\n",
       "2   4.358772  18.440124\n",
       "3   4.874454  17.574979\n",
       "4  10.345690  19.379708"
      ]
     },
     "execution_count": 14,
     "metadata": {},
     "output_type": "execute_result"
    }
   ],
   "source": [
    "world_a=pd.Series(world_gifts_df['geometry'].apply(lambda p: p.x))\n",
    "world_b=pd.Series(world_gifts_df['geometry'].apply(lambda p: p.y))\n",
    "world_X=np.column_stack((world_a,world_b))\n",
    "\n",
    "pd.DataFrame(world_X).head()"
   ]
  },
  {
   "cell_type": "markdown",
   "id": "5cb47f5c",
   "metadata": {},
   "source": [
    "##### What's the optimal k or number of clusters?\n",
    "\n",
    "In cluster analysis, the elbow method is a heuristic used in determining the number of clusters in a data set. The method consists of plotting the explained variation as a function of the number of clusters, and picking the elbow of the curve as the number of clusters to use."
   ]
  },
  {
   "cell_type": "markdown",
   "id": "39cafe9f",
   "metadata": {},
   "source": [
    "###### Scikit-learn is a free software machine learning library for the Python programming language."
   ]
  },
  {
   "cell_type": "code",
   "execution_count": 15,
   "id": "faaaf7d6",
   "metadata": {},
   "outputs": [
    {
     "data": {
      "image/png": "[encoded data removed]",
      "text/plain": [
       "<Figure size 432x288 with 1 Axes>"
      ]
     },
     "metadata": {
      "needs_background": "light"
     },
     "output_type": "display_data"
    }
   ],
   "source": [
    "distortions = []\n",
    "world_K = range(1,20)\n",
    "for k in world_K:\n",
    "    kmeanModel = KMeans(n_clusters=k).fit(world_X)\n",
    "    kmeanModel.fit(world_X)\n",
    "    distortions.append(sum(np.min(cdist(world_X, kmeanModel.cluster_centers_, 'euclidean'), axis=1)) / world_X.shape[0])\n",
    "\n",
    "# Plot the elbow\n",
    "plt.plot(world_K, distortions, 'bx-')\n",
    "plt.xlabel('k')\n",
    "plt.ylabel('Distortion')\n",
    "plt.title('The Elbow Method showing the optimal k')\n",
    "plt.show()"
   ]
  },
  {
   "cell_type": "markdown",
   "id": "f4cb491a",
   "metadata": {},
   "source": [
    "Let's look at clustering the gifts at world level, what would it look like?"
   ]
  },
  {
   "cell_type": "code",
   "execution_count": 16,
   "id": "bab65319",
   "metadata": {},
   "outputs": [],
   "source": [
    "world_kmeans = KMeans(n_clusters = 5, init = 'k-means++', random_state = 5,  max_iter=400)\n",
    "world_y_kmeans = world_kmeans.fit_predict(world_X)\n",
    "world_k=pd.DataFrame(world_y_kmeans, columns=['cluster'])"
   ]
  },
  {
   "cell_type": "code",
   "execution_count": 17,
   "id": "d88d442c",
   "metadata": {
    "scrolled": true
   },
   "outputs": [
    {
     "data": {
      "image/png": "[encoded data removed]",
      "text/plain": [
       "<Figure size 1440x1080 with 1 Axes>"
      ]
     },
     "metadata": {
      "needs_background": "light"
     },
     "output_type": "display_data"
    }
   ],
   "source": [
    "f, ax = plt.subplots(1, figsize=(20,15))\n",
    "ax.set_title(\"World Trip Clusters\", fontsize=40)\n",
    "ax.set_axis_off()\n",
    "world_joined_df = world_gifts_df.reset_index(drop=True).join(world_k)\n",
    "world_joined_df.plot(column='cluster',cmap='Set2', ax=ax, markersize=80)\n",
    "plt.show()"
   ]
  },
  {
   "cell_type": "markdown",
   "id": "0c80230d",
   "metadata": {},
   "source": [
    "Does it make sense to use this? what factors should we include as basis for dividing our coverage besides location?"
   ]
  },
  {
   "cell_type": "markdown",
   "id": "eee246d2",
   "metadata": {},
   "source": [
    "### Let's assume we need to approach the problem by Country"
   ]
  },
  {
   "cell_type": "code",
   "execution_count": 18,
   "id": "3712bbda",
   "metadata": {},
   "outputs": [
    {
     "data": {
      "text/html": [
       "<div>\n",
       "<style scoped>\n",
       "    .dataframe tbody tr th:only-of-type {\n",
       "        vertical-align: middle;\n",
       "    }\n",
       "\n",
       "    .dataframe tbody tr th {\n",
       "        vertical-align: top;\n",
       "    }\n",
       "\n",
       "    .dataframe thead th {\n",
       "        text-align: right;\n",
       "    }\n",
       "</style>\n",
       "<table border=\"1\" class=\"dataframe\">\n",
       "  <thead>\n",
       "    <tr style=\"text-align: right;\">\n",
       "      <th></th>\n",
       "      <th>GiftId</th>\n",
       "      <th>Weight</th>\n",
       "      <th>geometry</th>\n",
       "      <th>index_right</th>\n",
       "      <th>pop_est</th>\n",
       "      <th>continent</th>\n",
       "      <th>name</th>\n",
       "      <th>iso_a3</th>\n",
       "      <th>gdp_md_est</th>\n",
       "      <th>pop_children_est</th>\n",
       "    </tr>\n",
       "  </thead>\n",
       "  <tbody>\n",
       "    <tr>\n",
       "      <th>424</th>\n",
       "      <td>425</td>\n",
       "      <td>1.000000</td>\n",
       "      <td>POINT (121.53483 17.72996)</td>\n",
       "      <td>147</td>\n",
       "      <td>104256076</td>\n",
       "      <td>Asia</td>\n",
       "      <td>Philippines</td>\n",
       "      <td>PHL</td>\n",
       "      <td>801900.0</td>\n",
       "      <td>28242971</td>\n",
       "    </tr>\n",
       "    <tr>\n",
       "      <th>505</th>\n",
       "      <td>506</td>\n",
       "      <td>25.861125</td>\n",
       "      <td>POINT (120.87326 17.55865)</td>\n",
       "      <td>147</td>\n",
       "      <td>104256076</td>\n",
       "      <td>Asia</td>\n",
       "      <td>Philippines</td>\n",
       "      <td>PHL</td>\n",
       "      <td>801900.0</td>\n",
       "      <td>28242971</td>\n",
       "    </tr>\n",
       "    <tr>\n",
       "      <th>731</th>\n",
       "      <td>732</td>\n",
       "      <td>1.000000</td>\n",
       "      <td>POINT (121.45424 15.84005)</td>\n",
       "      <td>147</td>\n",
       "      <td>104256076</td>\n",
       "      <td>Asia</td>\n",
       "      <td>Philippines</td>\n",
       "      <td>PHL</td>\n",
       "      <td>801900.0</td>\n",
       "      <td>28242971</td>\n",
       "    </tr>\n",
       "    <tr>\n",
       "      <th>1219</th>\n",
       "      <td>1220</td>\n",
       "      <td>12.454894</td>\n",
       "      <td>POINT (125.43937 6.11672)</td>\n",
       "      <td>147</td>\n",
       "      <td>104256076</td>\n",
       "      <td>Asia</td>\n",
       "      <td>Philippines</td>\n",
       "      <td>PHL</td>\n",
       "      <td>801900.0</td>\n",
       "      <td>28242971</td>\n",
       "    </tr>\n",
       "    <tr>\n",
       "      <th>1664</th>\n",
       "      <td>1665</td>\n",
       "      <td>1.797168</td>\n",
       "      <td>POINT (120.67870 16.13062)</td>\n",
       "      <td>147</td>\n",
       "      <td>104256076</td>\n",
       "      <td>Asia</td>\n",
       "      <td>Philippines</td>\n",
       "      <td>PHL</td>\n",
       "      <td>801900.0</td>\n",
       "      <td>28242971</td>\n",
       "    </tr>\n",
       "  </tbody>\n",
       "</table>\n",
       "</div>"
      ],
      "text/plain": [
       "      GiftId     Weight                    geometry  index_right    pop_est  \\\n",
       "424      425   1.000000  POINT (121.53483 17.72996)          147  104256076   \n",
       "505      506  25.861125  POINT (120.87326 17.55865)          147  104256076   \n",
       "731      732   1.000000  POINT (121.45424 15.84005)          147  104256076   \n",
       "1219    1220  12.454894   POINT (125.43937 6.11672)          147  104256076   \n",
       "1664    1665   1.797168  POINT (120.67870 16.13062)          147  104256076   \n",
       "\n",
       "     continent         name iso_a3  gdp_md_est  pop_children_est  \n",
       "424       Asia  Philippines    PHL    801900.0          28242971  \n",
       "505       Asia  Philippines    PHL    801900.0          28242971  \n",
       "731       Asia  Philippines    PHL    801900.0          28242971  \n",
       "1219      Asia  Philippines    PHL    801900.0          28242971  \n",
       "1664      Asia  Philippines    PHL    801900.0          28242971  "
      ]
     },
     "execution_count": 18,
     "metadata": {},
     "output_type": "execute_result"
    }
   ],
   "source": [
    "ph_df = world_gifts_df[world_gifts_df['name']=='Philippines']\n",
    "ph_df.head()"
   ]
  },
  {
   "cell_type": "code",
   "execution_count": 19,
   "id": "cde2cac0",
   "metadata": {},
   "outputs": [
    {
     "data": {
      "text/html": [
       "<div>\n",
       "<style scoped>\n",
       "    .dataframe tbody tr th:only-of-type {\n",
       "        vertical-align: middle;\n",
       "    }\n",
       "\n",
       "    .dataframe tbody tr th {\n",
       "        vertical-align: top;\n",
       "    }\n",
       "\n",
       "    .dataframe thead th {\n",
       "        text-align: right;\n",
       "    }\n",
       "</style>\n",
       "<table border=\"1\" class=\"dataframe\">\n",
       "  <thead>\n",
       "    <tr style=\"text-align: right;\">\n",
       "      <th></th>\n",
       "      <th>0</th>\n",
       "      <th>1</th>\n",
       "    </tr>\n",
       "  </thead>\n",
       "  <tbody>\n",
       "    <tr>\n",
       "      <th>0</th>\n",
       "      <td>121.534829</td>\n",
       "      <td>17.729961</td>\n",
       "    </tr>\n",
       "    <tr>\n",
       "      <th>1</th>\n",
       "      <td>120.873265</td>\n",
       "      <td>17.558653</td>\n",
       "    </tr>\n",
       "    <tr>\n",
       "      <th>2</th>\n",
       "      <td>121.454238</td>\n",
       "      <td>15.840046</td>\n",
       "    </tr>\n",
       "    <tr>\n",
       "      <th>3</th>\n",
       "      <td>125.439367</td>\n",
       "      <td>6.116724</td>\n",
       "    </tr>\n",
       "    <tr>\n",
       "      <th>4</th>\n",
       "      <td>120.678699</td>\n",
       "      <td>16.130618</td>\n",
       "    </tr>\n",
       "  </tbody>\n",
       "</table>\n",
       "</div>"
      ],
      "text/plain": [
       "            0          1\n",
       "0  121.534829  17.729961\n",
       "1  120.873265  17.558653\n",
       "2  121.454238  15.840046\n",
       "3  125.439367   6.116724\n",
       "4  120.678699  16.130618"
      ]
     },
     "execution_count": 19,
     "metadata": {},
     "output_type": "execute_result"
    }
   ],
   "source": [
    "ph_a=pd.Series(ph_df['geometry'].apply(lambda p: p.x))\n",
    "ph_b=pd.Series(ph_df['geometry'].apply(lambda p: p.y))\n",
    "ph_X=np.column_stack((ph_a,ph_b))\n",
    "\n",
    "pd.DataFrame(ph_X).head()"
   ]
  },
  {
   "cell_type": "markdown",
   "id": "23dfbf48",
   "metadata": {},
   "source": [
    "Let's assume a constraint of only 15 visits to PH, how will our cluster look like?"
   ]
  },
  {
   "cell_type": "code",
   "execution_count": 20,
   "id": "a9ba2e22",
   "metadata": {},
   "outputs": [],
   "source": [
    "ph_kmeans = KMeans(n_clusters = 15, init = 'k-means++', random_state = 5,  max_iter=400)\n",
    "ph_y_kmeans = ph_kmeans.fit_predict(ph_X)\n",
    "ph_k=pd.DataFrame(ph_y_kmeans, columns=['cluster'])"
   ]
  },
  {
   "cell_type": "code",
   "execution_count": 21,
   "id": "7c2fe58f",
   "metadata": {},
   "outputs": [
    {
     "data": {
      "image/png": "[encoded data removed]",
      "text/plain": [
       "<Figure size 2160x1440 with 1 Axes>"
      ]
     },
     "metadata": {
      "needs_background": "light"
     },
     "output_type": "display_data"
    }
   ],
   "source": [
    "f, ax = plt.subplots(1, figsize=(30,20))\n",
    "ax.set_title(\"Philippine Santa Trip Clusters\", fontsize=40)\n",
    "ax.set_axis_off()\n",
    "joined_df = ph_df.reset_index(drop=True).join(ph_k)\n",
    "joined_df.plot(column='cluster',cmap='Set2', ax=ax, markersize=80)\n",
    "plt.show()"
   ]
  },
  {
   "cell_type": "markdown",
   "id": "120cb76b",
   "metadata": {},
   "source": [
    "How many gifts can we deliver per route visit?"
   ]
  },
  {
   "cell_type": "code",
   "execution_count": 22,
   "id": "887eac0e",
   "metadata": {
    "scrolled": true
   },
   "outputs": [
    {
     "data": {
      "text/plain": [
       "mean      11.666667\n",
       "max       21.000000\n",
       "min        6.000000\n",
       "median    11.000000\n",
       "Name: GiftId, dtype: float64"
      ]
     },
     "execution_count": 22,
     "metadata": {},
     "output_type": "execute_result"
    }
   ],
   "source": [
    "joined_df.groupby(\"cluster\").nunique()['GiftId'].agg([\"mean\",\"max\",\"min\",\"median\"]) "
   ]
  },
  {
   "cell_type": "markdown",
   "id": "3955ecbc",
   "metadata": {},
   "source": [
    "How much will each trip load look like?"
   ]
  },
  {
   "cell_type": "code",
   "execution_count": 23,
   "id": "33b3cc8a",
   "metadata": {},
   "outputs": [
    {
     "data": {
      "text/html": [
       "<div>\n",
       "<style scoped>\n",
       "    .dataframe tbody tr th:only-of-type {\n",
       "        vertical-align: middle;\n",
       "    }\n",
       "\n",
       "    .dataframe tbody tr th {\n",
       "        vertical-align: top;\n",
       "    }\n",
       "\n",
       "    .dataframe thead th {\n",
       "        text-align: right;\n",
       "    }\n",
       "</style>\n",
       "<table border=\"1\" class=\"dataframe\">\n",
       "  <thead>\n",
       "    <tr style=\"text-align: right;\">\n",
       "      <th></th>\n",
       "      <th>sum</th>\n",
       "    </tr>\n",
       "    <tr>\n",
       "      <th>cluster</th>\n",
       "      <th></th>\n",
       "    </tr>\n",
       "  </thead>\n",
       "  <tbody>\n",
       "    <tr>\n",
       "      <th>0</th>\n",
       "      <td>90.858998</td>\n",
       "    </tr>\n",
       "    <tr>\n",
       "      <th>1</th>\n",
       "      <td>118.393101</td>\n",
       "    </tr>\n",
       "    <tr>\n",
       "      <th>2</th>\n",
       "      <td>68.126953</td>\n",
       "    </tr>\n",
       "    <tr>\n",
       "      <th>3</th>\n",
       "      <td>230.349435</td>\n",
       "    </tr>\n",
       "    <tr>\n",
       "      <th>4</th>\n",
       "      <td>322.796950</td>\n",
       "    </tr>\n",
       "    <tr>\n",
       "      <th>5</th>\n",
       "      <td>24.716076</td>\n",
       "    </tr>\n",
       "    <tr>\n",
       "      <th>6</th>\n",
       "      <td>257.329813</td>\n",
       "    </tr>\n",
       "    <tr>\n",
       "      <th>7</th>\n",
       "      <td>100.469982</td>\n",
       "    </tr>\n",
       "    <tr>\n",
       "      <th>8</th>\n",
       "      <td>123.537903</td>\n",
       "    </tr>\n",
       "    <tr>\n",
       "      <th>9</th>\n",
       "      <td>381.703801</td>\n",
       "    </tr>\n",
       "    <tr>\n",
       "      <th>10</th>\n",
       "      <td>95.717481</td>\n",
       "    </tr>\n",
       "    <tr>\n",
       "      <th>11</th>\n",
       "      <td>115.691854</td>\n",
       "    </tr>\n",
       "    <tr>\n",
       "      <th>12</th>\n",
       "      <td>130.714851</td>\n",
       "    </tr>\n",
       "    <tr>\n",
       "      <th>13</th>\n",
       "      <td>158.103879</td>\n",
       "    </tr>\n",
       "    <tr>\n",
       "      <th>14</th>\n",
       "      <td>113.455533</td>\n",
       "    </tr>\n",
       "  </tbody>\n",
       "</table>\n",
       "</div>"
      ],
      "text/plain": [
       "                sum\n",
       "cluster            \n",
       "0         90.858998\n",
       "1        118.393101\n",
       "2         68.126953\n",
       "3        230.349435\n",
       "4        322.796950\n",
       "5         24.716076\n",
       "6        257.329813\n",
       "7        100.469982\n",
       "8        123.537903\n",
       "9        381.703801\n",
       "10        95.717481\n",
       "11       115.691854\n",
       "12       130.714851\n",
       "13       158.103879\n",
       "14       113.455533"
      ]
     },
     "execution_count": 23,
     "metadata": {},
     "output_type": "execute_result"
    }
   ],
   "source": [
    "joined_df.groupby(\"cluster\")['Weight'].agg([\"sum\"]) "
   ]
  },
  {
   "cell_type": "markdown",
   "id": "efc6bf26",
   "metadata": {},
   "source": [
    "Our average load per trip"
   ]
  },
  {
   "cell_type": "code",
   "execution_count": 24,
   "id": "91c2a29b",
   "metadata": {
    "scrolled": true
   },
   "outputs": [
    {
     "data": {
      "text/plain": [
       "sum    155.464441\n",
       "dtype: float64"
      ]
     },
     "execution_count": 24,
     "metadata": {},
     "output_type": "execute_result"
    }
   ],
   "source": [
    "joined_df.groupby(\"cluster\")['Weight'].agg([\"sum\"]).mean()"
   ]
  },
  {
   "cell_type": "markdown",
   "id": "c3d84ede",
   "metadata": {},
   "source": [
    "### Is there a recommended path for us to take per location?\n",
    "The traveling salesman problem asks the following question: \"Given a list of places and the distances between each pair of places, what is the shortest possible route that visits each places exactly once and returns to the origin?\""
   ]
  },
  {
   "cell_type": "markdown",
   "id": "6b05f81f",
   "metadata": {},
   "source": [
    "again, to simplify let's just sample one route"
   ]
  },
  {
   "cell_type": "code",
   "execution_count": 25,
   "id": "77c2faeb",
   "metadata": {},
   "outputs": [
    {
     "data": {
      "text/html": [
       "<div>\n",
       "<style scoped>\n",
       "    .dataframe tbody tr th:only-of-type {\n",
       "        vertical-align: middle;\n",
       "    }\n",
       "\n",
       "    .dataframe tbody tr th {\n",
       "        vertical-align: top;\n",
       "    }\n",
       "\n",
       "    .dataframe thead th {\n",
       "        text-align: right;\n",
       "    }\n",
       "</style>\n",
       "<table border=\"1\" class=\"dataframe\">\n",
       "  <thead>\n",
       "    <tr style=\"text-align: right;\">\n",
       "      <th></th>\n",
       "      <th>GiftId</th>\n",
       "      <th>Weight</th>\n",
       "      <th>geometry</th>\n",
       "      <th>index_right</th>\n",
       "      <th>pop_est</th>\n",
       "      <th>continent</th>\n",
       "      <th>name</th>\n",
       "      <th>iso_a3</th>\n",
       "      <th>gdp_md_est</th>\n",
       "      <th>pop_children_est</th>\n",
       "      <th>cluster</th>\n",
       "    </tr>\n",
       "  </thead>\n",
       "  <tbody>\n",
       "    <tr>\n",
       "      <th>17</th>\n",
       "      <td>7268</td>\n",
       "      <td>27.159631</td>\n",
       "      <td>POINT (124.84400 8.20472)</td>\n",
       "      <td>147</td>\n",
       "      <td>104256076</td>\n",
       "      <td>Asia</td>\n",
       "      <td>Philippines</td>\n",
       "      <td>PHL</td>\n",
       "      <td>801900.0</td>\n",
       "      <td>28242971</td>\n",
       "      <td>3</td>\n",
       "    </tr>\n",
       "    <tr>\n",
       "      <th>32</th>\n",
       "      <td>14851</td>\n",
       "      <td>40.967605</td>\n",
       "      <td>POINT (124.69651 8.32590)</td>\n",
       "      <td>147</td>\n",
       "      <td>104256076</td>\n",
       "      <td>Asia</td>\n",
       "      <td>Philippines</td>\n",
       "      <td>PHL</td>\n",
       "      <td>801900.0</td>\n",
       "      <td>28242971</td>\n",
       "      <td>3</td>\n",
       "    </tr>\n",
       "    <tr>\n",
       "      <th>83</th>\n",
       "      <td>43535</td>\n",
       "      <td>27.140949</td>\n",
       "      <td>POINT (125.20689 7.41054)</td>\n",
       "      <td>147</td>\n",
       "      <td>104256076</td>\n",
       "      <td>Asia</td>\n",
       "      <td>Philippines</td>\n",
       "      <td>PHL</td>\n",
       "      <td>801900.0</td>\n",
       "      <td>28242971</td>\n",
       "      <td>3</td>\n",
       "    </tr>\n",
       "    <tr>\n",
       "      <th>91</th>\n",
       "      <td>48670</td>\n",
       "      <td>1.000000</td>\n",
       "      <td>POINT (124.79040 7.23943)</td>\n",
       "      <td>147</td>\n",
       "      <td>104256076</td>\n",
       "      <td>Asia</td>\n",
       "      <td>Philippines</td>\n",
       "      <td>PHL</td>\n",
       "      <td>801900.0</td>\n",
       "      <td>28242971</td>\n",
       "      <td>3</td>\n",
       "    </tr>\n",
       "    <tr>\n",
       "      <th>92</th>\n",
       "      <td>48699</td>\n",
       "      <td>1.000000</td>\n",
       "      <td>POINT (124.38314 7.83720)</td>\n",
       "      <td>147</td>\n",
       "      <td>104256076</td>\n",
       "      <td>Asia</td>\n",
       "      <td>Philippines</td>\n",
       "      <td>PHL</td>\n",
       "      <td>801900.0</td>\n",
       "      <td>28242971</td>\n",
       "      <td>3</td>\n",
       "    </tr>\n",
       "    <tr>\n",
       "      <th>104</th>\n",
       "      <td>53521</td>\n",
       "      <td>25.702642</td>\n",
       "      <td>POINT (124.65004 7.30322)</td>\n",
       "      <td>147</td>\n",
       "      <td>104256076</td>\n",
       "      <td>Asia</td>\n",
       "      <td>Philippines</td>\n",
       "      <td>PHL</td>\n",
       "      <td>801900.0</td>\n",
       "      <td>28242971</td>\n",
       "      <td>3</td>\n",
       "    </tr>\n",
       "    <tr>\n",
       "      <th>105</th>\n",
       "      <td>53538</td>\n",
       "      <td>1.000000</td>\n",
       "      <td>POINT (124.23167 8.20737)</td>\n",
       "      <td>147</td>\n",
       "      <td>104256076</td>\n",
       "      <td>Asia</td>\n",
       "      <td>Philippines</td>\n",
       "      <td>PHL</td>\n",
       "      <td>801900.0</td>\n",
       "      <td>28242971</td>\n",
       "      <td>3</td>\n",
       "    </tr>\n",
       "    <tr>\n",
       "      <th>111</th>\n",
       "      <td>55704</td>\n",
       "      <td>13.480132</td>\n",
       "      <td>POINT (124.11137 7.78176)</td>\n",
       "      <td>147</td>\n",
       "      <td>104256076</td>\n",
       "      <td>Asia</td>\n",
       "      <td>Philippines</td>\n",
       "      <td>PHL</td>\n",
       "      <td>801900.0</td>\n",
       "      <td>28242971</td>\n",
       "      <td>3</td>\n",
       "    </tr>\n",
       "    <tr>\n",
       "      <th>121</th>\n",
       "      <td>58431</td>\n",
       "      <td>2.926374</td>\n",
       "      <td>POINT (124.96527 7.31802)</td>\n",
       "      <td>147</td>\n",
       "      <td>104256076</td>\n",
       "      <td>Asia</td>\n",
       "      <td>Philippines</td>\n",
       "      <td>PHL</td>\n",
       "      <td>801900.0</td>\n",
       "      <td>28242971</td>\n",
       "      <td>3</td>\n",
       "    </tr>\n",
       "    <tr>\n",
       "      <th>127</th>\n",
       "      <td>61120</td>\n",
       "      <td>1.000000</td>\n",
       "      <td>POINT (124.77699 8.10050)</td>\n",
       "      <td>147</td>\n",
       "      <td>104256076</td>\n",
       "      <td>Asia</td>\n",
       "      <td>Philippines</td>\n",
       "      <td>PHL</td>\n",
       "      <td>801900.0</td>\n",
       "      <td>28242971</td>\n",
       "      <td>3</td>\n",
       "    </tr>\n",
       "    <tr>\n",
       "      <th>128</th>\n",
       "      <td>62160</td>\n",
       "      <td>19.335655</td>\n",
       "      <td>POINT (124.25669 7.87708)</td>\n",
       "      <td>147</td>\n",
       "      <td>104256076</td>\n",
       "      <td>Asia</td>\n",
       "      <td>Philippines</td>\n",
       "      <td>PHL</td>\n",
       "      <td>801900.0</td>\n",
       "      <td>28242971</td>\n",
       "      <td>3</td>\n",
       "    </tr>\n",
       "    <tr>\n",
       "      <th>129</th>\n",
       "      <td>66873</td>\n",
       "      <td>1.000000</td>\n",
       "      <td>POINT (124.90195 8.04079)</td>\n",
       "      <td>147</td>\n",
       "      <td>104256076</td>\n",
       "      <td>Asia</td>\n",
       "      <td>Philippines</td>\n",
       "      <td>PHL</td>\n",
       "      <td>801900.0</td>\n",
       "      <td>28242971</td>\n",
       "      <td>3</td>\n",
       "    </tr>\n",
       "    <tr>\n",
       "      <th>130</th>\n",
       "      <td>67346</td>\n",
       "      <td>1.999515</td>\n",
       "      <td>POINT (124.33564 7.04089)</td>\n",
       "      <td>147</td>\n",
       "      <td>104256076</td>\n",
       "      <td>Asia</td>\n",
       "      <td>Philippines</td>\n",
       "      <td>PHL</td>\n",
       "      <td>801900.0</td>\n",
       "      <td>28242971</td>\n",
       "      <td>3</td>\n",
       "    </tr>\n",
       "    <tr>\n",
       "      <th>132</th>\n",
       "      <td>68385</td>\n",
       "      <td>46.878706</td>\n",
       "      <td>POINT (125.22535 7.76944)</td>\n",
       "      <td>147</td>\n",
       "      <td>104256076</td>\n",
       "      <td>Asia</td>\n",
       "      <td>Philippines</td>\n",
       "      <td>PHL</td>\n",
       "      <td>801900.0</td>\n",
       "      <td>28242971</td>\n",
       "      <td>3</td>\n",
       "    </tr>\n",
       "    <tr>\n",
       "      <th>148</th>\n",
       "      <td>84354</td>\n",
       "      <td>1.000000</td>\n",
       "      <td>POINT (124.28112 7.71653)</td>\n",
       "      <td>147</td>\n",
       "      <td>104256076</td>\n",
       "      <td>Asia</td>\n",
       "      <td>Philippines</td>\n",
       "      <td>PHL</td>\n",
       "      <td>801900.0</td>\n",
       "      <td>28242971</td>\n",
       "      <td>3</td>\n",
       "    </tr>\n",
       "    <tr>\n",
       "      <th>160</th>\n",
       "      <td>94431</td>\n",
       "      <td>11.715650</td>\n",
       "      <td>POINT (124.79466 8.74371)</td>\n",
       "      <td>147</td>\n",
       "      <td>104256076</td>\n",
       "      <td>Asia</td>\n",
       "      <td>Philippines</td>\n",
       "      <td>PHL</td>\n",
       "      <td>801900.0</td>\n",
       "      <td>28242971</td>\n",
       "      <td>3</td>\n",
       "    </tr>\n",
       "    <tr>\n",
       "      <th>163</th>\n",
       "      <td>95492</td>\n",
       "      <td>1.000000</td>\n",
       "      <td>POINT (124.84016 7.27408)</td>\n",
       "      <td>147</td>\n",
       "      <td>104256076</td>\n",
       "      <td>Asia</td>\n",
       "      <td>Philippines</td>\n",
       "      <td>PHL</td>\n",
       "      <td>801900.0</td>\n",
       "      <td>28242971</td>\n",
       "      <td>3</td>\n",
       "    </tr>\n",
       "    <tr>\n",
       "      <th>167</th>\n",
       "      <td>96461</td>\n",
       "      <td>1.000000</td>\n",
       "      <td>POINT (124.29671 7.88910)</td>\n",
       "      <td>147</td>\n",
       "      <td>104256076</td>\n",
       "      <td>Asia</td>\n",
       "      <td>Philippines</td>\n",
       "      <td>PHL</td>\n",
       "      <td>801900.0</td>\n",
       "      <td>28242971</td>\n",
       "      <td>3</td>\n",
       "    </tr>\n",
       "    <tr>\n",
       "      <th>174</th>\n",
       "      <td>99767</td>\n",
       "      <td>5.042576</td>\n",
       "      <td>POINT (124.51915 7.69314)</td>\n",
       "      <td>147</td>\n",
       "      <td>104256076</td>\n",
       "      <td>Asia</td>\n",
       "      <td>Philippines</td>\n",
       "      <td>PHL</td>\n",
       "      <td>801900.0</td>\n",
       "      <td>28242971</td>\n",
       "      <td>3</td>\n",
       "    </tr>\n",
       "  </tbody>\n",
       "</table>\n",
       "</div>"
      ],
      "text/plain": [
       "     GiftId     Weight                   geometry  index_right    pop_est  \\\n",
       "17     7268  27.159631  POINT (124.84400 8.20472)          147  104256076   \n",
       "32    14851  40.967605  POINT (124.69651 8.32590)          147  104256076   \n",
       "83    43535  27.140949  POINT (125.20689 7.41054)          147  104256076   \n",
       "91    48670   1.000000  POINT (124.79040 7.23943)          147  104256076   \n",
       "92    48699   1.000000  POINT (124.38314 7.83720)          147  104256076   \n",
       "104   53521  25.702642  POINT (124.65004 7.30322)          147  104256076   \n",
       "105   53538   1.000000  POINT (124.23167 8.20737)          147  104256076   \n",
       "111   55704  13.480132  POINT (124.11137 7.78176)          147  104256076   \n",
       "121   58431   2.926374  POINT (124.96527 7.31802)          147  104256076   \n",
       "127   61120   1.000000  POINT (124.77699 8.10050)          147  104256076   \n",
       "128   62160  19.335655  POINT (124.25669 7.87708)          147  104256076   \n",
       "129   66873   1.000000  POINT (124.90195 8.04079)          147  104256076   \n",
       "130   67346   1.999515  POINT (124.33564 7.04089)          147  104256076   \n",
       "132   68385  46.878706  POINT (125.22535 7.76944)          147  104256076   \n",
       "148   84354   1.000000  POINT (124.28112 7.71653)          147  104256076   \n",
       "160   94431  11.715650  POINT (124.79466 8.74371)          147  104256076   \n",
       "163   95492   1.000000  POINT (124.84016 7.27408)          147  104256076   \n",
       "167   96461   1.000000  POINT (124.29671 7.88910)          147  104256076   \n",
       "174   99767   5.042576  POINT (124.51915 7.69314)          147  104256076   \n",
       "\n",
       "    continent         name iso_a3  gdp_md_est  pop_children_est  cluster  \n",
       "17       Asia  Philippines    PHL    801900.0          28242971        3  \n",
       "32       Asia  Philippines    PHL    801900.0          28242971        3  \n",
       "83       Asia  Philippines    PHL    801900.0          28242971        3  \n",
       "91       Asia  Philippines    PHL    801900.0          28242971        3  \n",
       "92       Asia  Philippines    PHL    801900.0          28242971        3  \n",
       "104      Asia  Philippines    PHL    801900.0          28242971        3  \n",
       "105      Asia  Philippines    PHL    801900.0          28242971        3  \n",
       "111      Asia  Philippines    PHL    801900.0          28242971        3  \n",
       "121      Asia  Philippines    PHL    801900.0          28242971        3  \n",
       "127      Asia  Philippines    PHL    801900.0          28242971        3  \n",
       "128      Asia  Philippines    PHL    801900.0          28242971        3  \n",
       "129      Asia  Philippines    PHL    801900.0          28242971        3  \n",
       "130      Asia  Philippines    PHL    801900.0          28242971        3  \n",
       "132      Asia  Philippines    PHL    801900.0          28242971        3  \n",
       "148      Asia  Philippines    PHL    801900.0          28242971        3  \n",
       "160      Asia  Philippines    PHL    801900.0          28242971        3  \n",
       "163      Asia  Philippines    PHL    801900.0          28242971        3  \n",
       "167      Asia  Philippines    PHL    801900.0          28242971        3  \n",
       "174      Asia  Philippines    PHL    801900.0          28242971        3  "
      ]
     },
     "execution_count": 25,
     "metadata": {},
     "output_type": "execute_result"
    }
   ],
   "source": [
    "sampled_df = joined_df[joined_df['cluster']==3]\n",
    "sampled_df"
   ]
  },
  {
   "cell_type": "code",
   "execution_count": 26,
   "id": "64606e79",
   "metadata": {},
   "outputs": [
    {
     "data": {
      "text/plain": [
       "<matplotlib.axes._subplots.AxesSubplot at 0x1ebdcd5d0d0>"
      ]
     },
     "execution_count": 26,
     "metadata": {},
     "output_type": "execute_result"
    },
    {
     "data": {
      "image/png": "[encoded data removed]",
      "text/plain": [
       "<Figure size 1080x720 with 1 Axes>"
      ]
     },
     "metadata": {
      "needs_background": "light"
     },
     "output_type": "display_data"
    }
   ],
   "source": [
    "sampled_df.plot(markersize=50,figsize=(15,10),color=\"orange\")"
   ]
  },
  {
   "cell_type": "markdown",
   "id": "6c524cd4",
   "metadata": {},
   "source": [
    "Let's connect all the dots by creating a graph and link them by computing their distance (to simplify, let's use euclidean distance)"
   ]
  },
  {
   "cell_type": "markdown",
   "id": "4066368b",
   "metadata": {},
   "source": [
    "### What is a Graph?\n",
    "In mathematics, and more specifically in graph theory, a graph is a structure amounting to a set of objects in which some pairs of the objects are in some sense \"related\".\n",
    "![](https://blog.fastforwardlabs.com/images/editor_uploads/2019-10-25-173715-graph_basics.png)"
   ]
  },
  {
   "cell_type": "markdown",
   "id": "77692517",
   "metadata": {},
   "source": [
    "##### NetworkX is a Python package for the creation, manipulation, and study of the structure, dynamics, and functions of complex networks."
   ]
  },
  {
   "cell_type": "code",
   "execution_count": 27,
   "id": "b19835ca",
   "metadata": {},
   "outputs": [],
   "source": [
    "points = range(len(sampled_df))\n",
    "\n",
    "G = ntx.Graph()\n",
    "\n",
    "for j in points:\n",
    "    point = sampled_df.iloc[j].geometry\n",
    "    G.add_node(point.wkt)\n",
    "    \n",
    "for j in points:\n",
    "    for i in points:\n",
    "        point1 = sampled_df.iloc[j].geometry\n",
    "        point2 = sampled_df.iloc[i].geometry\n",
    "        distance = spy.spatial.distance.euclidean(point1, point2)\n",
    "        G.add_edge(point1.wkt, point2.wkt, weight=distance)"
   ]
  },
  {
   "cell_type": "markdown",
   "id": "fdf74661",
   "metadata": {},
   "source": [
    "With our graph G, let's run a function that will return the estimated shortest distance path"
   ]
  },
  {
   "cell_type": "code",
   "execution_count": 28,
   "id": "6c459561",
   "metadata": {},
   "outputs": [],
   "source": [
    "tsp = ntx.algorithms.approximation.traveling_salesman_problem\n",
    "approx_path = tsp(G,cycle=False, weight='weight')"
   ]
  },
  {
   "cell_type": "markdown",
   "id": "05640cd4",
   "metadata": {},
   "source": [
    "this is what the tsp function estimates to be the salesman's route, in order"
   ]
  },
  {
   "cell_type": "code",
   "execution_count": 29,
   "id": "73ba653e",
   "metadata": {},
   "outputs": [
    {
     "data": {
      "text/plain": [
       "['POINT (124.231669697 8.207368066080001)',\n",
       " 'POINT (124.296705622 7.88910406532)',\n",
       " 'POINT (124.25669394 7.87708436735)',\n",
       " 'POINT (124.111367911 7.78176085535)',\n",
       " 'POINT (124.281124281 7.71653302318)',\n",
       " 'POINT (124.383138202 7.83720197619)',\n",
       " 'POINT (124.519147617 7.69313759896)',\n",
       " 'POINT (124.650044456 7.30321655635)',\n",
       " 'POINT (124.335641962 7.04088541714)',\n",
       " 'POINT (124.790403849 7.23943466053)',\n",
       " 'POINT (124.840160879 7.27407878316)',\n",
       " 'POINT (124.965269668 7.31802304918)',\n",
       " 'POINT (125.206893779 7.41054065356)',\n",
       " 'POINT (125.225353616 7.76944410863)',\n",
       " 'POINT (124.90195425 8.04079272617)',\n",
       " 'POINT (124.776991085 8.100497648699999)',\n",
       " 'POINT (124.843997684 8.2047229641)',\n",
       " 'POINT (124.696511738 8.325903256489999)',\n",
       " 'POINT (124.794663763 8.74370782754)']"
      ]
     },
     "execution_count": 29,
     "metadata": {},
     "output_type": "execute_result"
    }
   ],
   "source": [
    "approx_path"
   ]
  },
  {
   "cell_type": "markdown",
   "id": "db6bf793",
   "metadata": {},
   "source": [
    "to help us appreciate it better, let's visualize"
   ]
  },
  {
   "cell_type": "code",
   "execution_count": 30,
   "id": "9ad5a1ac",
   "metadata": {},
   "outputs": [
    {
     "data": {
      "image/png": "[encoded data removed]",
      "text/plain": [
       "<Figure size 1080x720 with 1 Axes>"
      ]
     },
     "metadata": {
      "needs_background": "light"
     },
     "output_type": "display_data"
    }
   ],
   "source": [
    "approx_path_line = [shapely.wkt.loads(i) for i in approx_path]\n",
    "gdf_path = gpd.GeoDataFrame({'geometry':[shapely.geometry.LineString(approx_path_line)]})\n",
    "\n",
    "fig, ax = plt.subplots(figsize=(15,10))\n",
    "\n",
    "sampled_df.plot(markersize=50,color=\"black\",ax=ax)\n",
    "gdf_path.plot(ax=ax)\n",
    "gpd.GeoSeries([Point(gdf_path.geometry[0].coords[0])]).plot(markersize=50,color=\"red\",ax=ax)\n",
    "\n",
    "plt.show()"
   ]
  },
  {
   "cell_type": "markdown",
   "id": "b9116001",
   "metadata": {},
   "source": [
    "but what does it look like, really"
   ]
  },
  {
   "cell_type": "code",
   "execution_count": 31,
   "id": "fc538f94",
   "metadata": {},
   "outputs": [
    {
     "data": {
      "image/png": "[encoded data removed]",
      "text/plain": [
       "<Figure size 2160x1440 with 1 Axes>"
      ]
     },
     "metadata": {
      "needs_background": "light"
     },
     "output_type": "display_data"
    }
   ],
   "source": [
    "fig, ax = plt.subplots(figsize=(30,20))\n",
    "ax.set_title(\"Philippine Santa Trip Clusters\", fontsize=40)\n",
    "joined_df.plot(column='cluster',cmap='Set2', ax=ax, markersize=80)\n",
    "sampled_df.plot(markersize=50,color=\"black\",ax=ax)\n",
    "gdf_path.plot(ax=ax)\n",
    "gpd.GeoSeries([Point(gdf_path.geometry[0].coords[0])]).plot(markersize=50,color=\"red\",ax=ax)\n",
    "plt.show()"
   ]
  },
  {
   "cell_type": "markdown",
   "id": "1f39f914",
   "metadata": {},
   "source": [
    "Let's improve our visualization, for fun :) (also, the html file is something we can submit to the elf planners)"
   ]
  },
  {
   "cell_type": "markdown",
   "id": "9d79f0cc",
   "metadata": {},
   "source": [
    "##### mplleaflet is a Python library that converts a matplotlib plot into a webpage containing a pannable, zoomable Leaflet map."
   ]
  },
  {
   "cell_type": "code",
   "execution_count": 32,
   "id": "c3c6df11",
   "metadata": {
    "scrolled": true
   },
   "outputs": [],
   "source": [
    "mplleaflet.show(fig=fig)"
   ]
  },
  {
   "cell_type": "markdown",
   "id": "c6cf45c8",
   "metadata": {},
   "source": [
    "### What other things can we explore to improve our analysis?\n",
    "\n",
    "- Does weight of the gift have anything to do with location, gdp?\n",
    "- Can we use gdp or population growth to predict future gift requirements per location?\n",
    "- How much can the sleigh carry per trip? does lower gift weight affect quality (and therefore allow increased gift load)\n",
    "- How can we account for rests / weariness of Santa/ Reindeers? what about speed vs time window of delivery?\n",
    "- What other publicly available data can we get to improve our analysis (is there a naughty vs nice data set out there?)\n",
    "- What other ways can we do to make sure our data is high quality? \n",
    "- What methods and techniques can we use to validate our analysis and ensure best results?"
   ]
  },
  {
   "cell_type": "code",
   "execution_count": null,
   "id": "82f4734e",
   "metadata": {},
   "outputs": [],
   "source": []
  }
 ],
 "metadata": {
  "kernelspec": {
   "display_name": "Python 3 (ipykernel)",
   "language": "python",
   "name": "python3"
  },
  "language_info": {
   "codemirror_mode": {
    "name": "ipython",
    "version": 3
   },
   "file_extension": ".py",
   "mimetype": "text/x-python",
   "name": "python",
   "nbconvert_exporter": "python",
   "pygments_lexer": "ipython3",
   "version": "3.8.11"
  }
 },
 "nbformat": 4,
 "nbformat_minor": 5
}
